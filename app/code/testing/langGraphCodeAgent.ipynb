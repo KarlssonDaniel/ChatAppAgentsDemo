{
 "cells": [
  {
   "cell_type": "markdown",
   "metadata": {},
   "source": [
    "# Example Agent code generation"
   ]
  },
  {
   "cell_type": "code",
   "execution_count": 1,
   "metadata": {},
   "outputs": [],
   "source": [
    "from langchain_community.tools import DuckDuckGoSearchResults\n",
    "from langchain_community.chat_models import ChatOllama\n",
    "from langchain.output_parsers import CommaSeparatedListOutputParser\n",
    "\n",
    "from typing_extensions import TypedDict\n",
    "\n",
    "from langgraph.graph import StateGraph\n",
    "\n",
    "from langchain_core.prompts import PromptTemplate\n",
    "\n",
    "from IPython.display import Image, display\n",
    "\n",
    "llm = ChatOllama(model = \"llama3\", base_url=\"http://ollama:11434\")"
   ]
  },
  {
   "cell_type": "code",
   "execution_count": 7,
   "metadata": {},
   "outputs": [],
   "source": [
    "class State(TypedDict):\n",
    "    question: str\n",
    "    tests: str\n",
    "    code: str\n",
    "    graded: str\n",
    "    iter: int\n",
    "    maxIters: int"
   ]
  },
  {
   "cell_type": "markdown",
   "metadata": {},
   "source": [
    "## Test generator"
   ]
  },
  {
   "cell_type": "code",
   "execution_count": 8,
   "metadata": {},
   "outputs": [],
   "source": [
    "prompt = \"\"\"You are an expert test writer for python code. Create a reasonable set of tests in python for the following program description.\n",
    "\n",
    "{question}.\n",
    "\n",
    "Reply only with the python code module and no preamble\"\"\"\n",
    "\n",
    "promptTemplate = PromptTemplate.from_template(prompt)\n",
    "\n",
    "testGenerator = promptTemplate | llm\n",
    "\n",
    "def writeTests(state: State):\n",
    "    print(\"-----------generating tests-----------\")\n",
    "    tests = testGenerator.invoke({\"question\": state[\"question\"]}).content\n",
    "    print(f\"{tests=}\")\n",
    "    return {\"tests\": tests} "
   ]
  },
  {
   "cell_type": "code",
   "execution_count": 9,
   "metadata": {},
   "outputs": [
    {
     "name": "stdout",
     "output_type": "stream",
     "text": [
      "-----------generating tests-----------\n",
      "tests='```\\nimport unittest\\nfrom pandas import DataFrame\\nfrom scipy.stats import normaltest\\nfrom matplotlib.pyplot import show, figure\\n\\nclass TestPlotNumericData(unittest.TestCase):\\n\\n    def test_summary_statistics(self):\\n        df = DataFrame({\\'A\\': [1, 2, 3], \\'B\\': [4, 5, 6]})\\n        result = df.describe()\\n        self.assertIsInstance(result, DataFrame)\\n        self.assertEqual(result.shape[0], 2)\\n\\n    @unittest.skipIf(normaltest(df).statistic < 0.9, \"Non-normal data\")\\n    def test_boxplot(self):\\n        import numpy as np\\n        from matplotlib.pyplot import boxplot\\n\\n        df = DataFrame({\\'A\\': [1, 2, 3], \\'B\\': [4, 5, 6]})\\n        numeric_cols = [col for col in df.columns if df[col].dtype.kind == \\'i\\']\\n        figure()\\n        boxplot([df[col] for col in numeric_cols])\\n        show()\\n\\n    def test_plotting_non_numeric_data(self):\\n        import matplotlib.pyplot as plt\\n\\n        df = DataFrame({\\'A\\': [\\'a\\', \\'b\\', \\'c\\'], \\'B\\': [4, 5, 6]})\\n        with self.assertRaises(ValueError):\\n            _ = plt.boxplot([df[col] for col in df.columns])\\n\\nif __name__ == \\'__main__\\':\\n    unittest.main()\\n```'\n",
      "```\n",
      "import unittest\n",
      "from pandas import DataFrame\n",
      "from scipy.stats import normaltest\n",
      "from matplotlib.pyplot import show, figure\n",
      "\n",
      "class TestPlotNumericData(unittest.TestCase):\n",
      "\n",
      "    def test_summary_statistics(self):\n",
      "        df = DataFrame({'A': [1, 2, 3], 'B': [4, 5, 6]})\n",
      "        result = df.describe()\n",
      "        self.assertIsInstance(result, DataFrame)\n",
      "        self.assertEqual(result.shape[0], 2)\n",
      "\n",
      "    @unittest.skipIf(normaltest(df).statistic < 0.9, \"Non-normal data\")\n",
      "    def test_boxplot(self):\n",
      "        import numpy as np\n",
      "        from matplotlib.pyplot import boxplot\n",
      "\n",
      "        df = DataFrame({'A': [1, 2, 3], 'B': [4, 5, 6]})\n",
      "        numeric_cols = [col for col in df.columns if df[col].dtype.kind == 'i']\n",
      "        figure()\n",
      "        boxplot([df[col] for col in numeric_cols])\n",
      "        show()\n",
      "\n",
      "    def test_plotting_non_numeric_data(self):\n",
      "        import matplotlib.pyplot as plt\n",
      "\n",
      "        df = DataFrame({'A': ['a', 'b', 'c'], 'B': [4, 5, 6]})\n",
      "        with self.assertRaises(ValueError):\n",
      "            _ = plt.boxplot([df[col] for col in df.columns])\n",
      "\n",
      "if __name__ == '__main__':\n",
      "    unittest.main()\n",
      "```\n"
     ]
    }
   ],
   "source": [
    "tests = writeTests({\"question\": \"Create a program that takes a pandas DataFrame prints summary statisticas and plots all numeric data in a boxplot.\"})\n",
    "print(tests[\"tests\"])"
   ]
  },
  {
   "cell_type": "markdown",
   "metadata": {},
   "source": [
    "## Code generator"
   ]
  },
  {
   "cell_type": "code",
   "execution_count": 28,
   "metadata": {},
   "outputs": [],
   "source": [
    "prompt = \"\"\"You are an expert python coder. Create the necessary code in python to achieve the following program description.\n",
    "\n",
    "{question}.\n",
    "\n",
    "The program should pass the following tests\n",
    "\n",
    "{tests}\n",
    "\n",
    "Reply only with the python code module with the code, excluding the tests and no preamble.\"\"\"\n",
    "\n",
    "promptTemplate = PromptTemplate.from_template(prompt)\n",
    "\n",
    "codeGenerator = promptTemplate | llm\n",
    "\n",
    "def writeCode(state: State):\n",
    "    print(\"-----------generating code-----------\")\n",
    "    code = codeGenerator.invoke({\"question\": state[\"question\"], \"tests\": state[\"tests\"]}).content\n",
    "    print(f\"{code=}\")\n",
    "    return {\"code\": code} "
   ]
  },
  {
   "cell_type": "markdown",
   "metadata": {},
   "source": [
    "## Reviewer"
   ]
  },
  {
   "cell_type": "code",
   "execution_count": null,
   "metadata": {},
   "outputs": [],
   "source": []
  },
  {
   "cell_type": "markdown",
   "metadata": {},
   "source": [
    "## Build graph"
   ]
  },
  {
   "cell_type": "code",
   "execution_count": 29,
   "metadata": {},
   "outputs": [],
   "source": [
    "graphBuilder = StateGraph(State)\n",
    "\n",
    "graphBuilder.add_node(\"tester\", writeTests)\n",
    "graphBuilder.add_node(\"coder\", writeCode)\n",
    "\n",
    "graphBuilder.add_edge(\"tester\", \"coder\")\n",
    "\n",
    "graphBuilder.set_entry_point(\"tester\")\n",
    "graphBuilder.set_finish_point('coder')\n",
    "\n",
    "graph = graphBuilder.compile()\n"
   ]
  },
  {
   "cell_type": "markdown",
   "metadata": {},
   "source": [
    "## Visualize graph"
   ]
  },
  {
   "cell_type": "code",
   "execution_count": 30,
   "metadata": {},
   "outputs": [
    {
     "data": {
      "image/jpeg": "[encoded data removed]",
      "text/plain": [
       "<IPython.core.display.Image object>"
      ]
     },
     "metadata": {},
     "output_type": "display_data"
    }
   ],
   "source": [
    "try:\n",
    "    display(Image(graph.get_graph().draw_mermaid_png()))\n",
    "except Exception:\n",
    "    # This requires some extra dependencies and is optional\n",
    "    pass"
   ]
  },
  {
   "cell_type": "markdown",
   "metadata": {},
   "source": [
    "## Test"
   ]
  },
  {
   "cell_type": "code",
   "execution_count": 34,
   "metadata": {},
   "outputs": [
    {
     "name": "stdout",
     "output_type": "stream",
     "text": [
      "-----------generating tests-----------\n",
      "tests=\"```\\nimport unittest\\nfrom io import StringIO\\nimport pandas as pd\\nimport matplotlib.pyplot as plt\\n\\nclass TestProgram(unittest.TestCase):\\n\\n    def test_load_data(self):\\n        df = pd.read_csv('test_data.csv')\\n        self.assertEqual(df.shape, (5, 3))\\n\\n    def test_summary_statistics(self):\\n        outcapture = StringIO()\\n        with redirect_stdout(outcapture):\\n            from your_program import print_stats\\n            print_stats(pd.DataFrame([[1, 2], [3, 4]]))\\n        self.assertIn('count', outcapture.getvalue())\\n        self.assertIn('mean', outcapture.getvalue())\\n\\n    def test_plot_numeric_data(self):\\n        df = pd.DataFrame([[1, 2, 'a'], [3, 4, 'b'], [5, 6, 'c']])\\n        plt.savefig('test.png')\\n        self.assertTrue(os.path.exists('test.png'))\\n\\nif __name__ == '__main__':\\n    unittest.main()\\n```\"\n",
      "-----------generating code-----------\n",
      "code=\"Here is the Python code module that meets the requirements:\\n```\\nimport pandas as pd\\nimport matplotlib.pyplot as plt\\nfrom io import StringIO\\n\\ndef print_stats(df):\\n    stats = df.describe()\\n    out = StringIO()\\n    print(stats.to_string(), file=out)\\n    return out.getvalue()\\n\\ndef plot_numeric_data(df):\\n    numeric_cols = [col for col in df.columns if df[col].dtype.kind in 'bifc']\\n    plt.boxplot([df[col].values for col in numeric_cols])\\n    plt.title('Box Plot of Numeric Data')\\n    plt.show()\\n\\ndef main():\\n    df = pd.read_csv('test_data.csv')  # replace with your file name\\n    print_stats(df)\\n    plot_numeric_data(df)\\n\\nif __name__ == '__main__':\\n    main()\\n```\"\n"
     ]
    }
   ],
   "source": [
    "finalState = graph.invoke({\"question\": \"Create a program that takes a pandas DataFrame prints summary statisticas and plots all numeric data in a boxplot.\"})"
   ]
  },
  {
   "cell_type": "code",
   "execution_count": 35,
   "metadata": {},
   "outputs": [
    {
     "name": "stdout",
     "output_type": "stream",
     "text": [
      "Here is the Python code module that meets the requirements:\n",
      "```\n",
      "import pandas as pd\n",
      "import matplotlib.pyplot as plt\n",
      "from io import StringIO\n",
      "\n",
      "def print_stats(df):\n",
      "    stats = df.describe()\n",
      "    out = StringIO()\n",
      "    print(stats.to_string(), file=out)\n",
      "    return out.getvalue()\n",
      "\n",
      "def plot_numeric_data(df):\n",
      "    numeric_cols = [col for col in df.columns if df[col].dtype.kind in 'bifc']\n",
      "    plt.boxplot([df[col].values for col in numeric_cols])\n",
      "    plt.title('Box Plot of Numeric Data')\n",
      "    plt.show()\n",
      "\n",
      "def main():\n",
      "    df = pd.read_csv('test_data.csv')  # replace with your file name\n",
      "    print_stats(df)\n",
      "    plot_numeric_data(df)\n",
      "\n",
      "if __name__ == '__main__':\n",
      "    main()\n",
      "```\n"
     ]
    }
   ],
   "source": [
    "print(finalState[\"code\"])"
   ]
  },
  {
   "cell_type": "code",
   "execution_count": 36,
   "metadata": {},
   "outputs": [
    {
     "name": "stdout",
     "output_type": "stream",
     "text": [
      "```\n",
      "import unittest\n",
      "from io import StringIO\n",
      "import pandas as pd\n",
      "import matplotlib.pyplot as plt\n",
      "\n",
      "class TestProgram(unittest.TestCase):\n",
      "\n",
      "    def test_load_data(self):\n",
      "        df = pd.read_csv('test_data.csv')\n",
      "        self.assertEqual(df.shape, (5, 3))\n",
      "\n",
      "    def test_summary_statistics(self):\n",
      "        outcapture = StringIO()\n",
      "        with redirect_stdout(outcapture):\n",
      "            from your_program import print_stats\n",
      "            print_stats(pd.DataFrame([[1, 2], [3, 4]]))\n",
      "        self.assertIn('count', outcapture.getvalue())\n",
      "        self.assertIn('mean', outcapture.getvalue())\n",
      "\n",
      "    def test_plot_numeric_data(self):\n",
      "        df = pd.DataFrame([[1, 2, 'a'], [3, 4, 'b'], [5, 6, 'c']])\n",
      "        plt.savefig('test.png')\n",
      "        self.assertTrue(os.path.exists('test.png'))\n",
      "\n",
      "if __name__ == '__main__':\n",
      "    unittest.main()\n",
      "```\n"
     ]
    }
   ],
   "source": [
    "print(finalState[\"tests\"])"
   ]
  }
 ],
 "metadata": {
  "kernelspec": {
   "display_name": "Python 3",
   "language": "python",
   "name": "python3"
  },
  "language_info": {
   "codemirror_mode": {
    "name": "ipython",
    "version": 3
   },
   "file_extension": ".py",
   "mimetype": "text/x-python",
   "name": "python",
   "nbconvert_exporter": "python",
   "pygments_lexer": "ipython3",
   "version": "3.11.9"
  }
 },
 "nbformat": 4,
 "nbformat_minor": 2
}
