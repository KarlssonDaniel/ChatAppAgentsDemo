{
 "cells": [
  {
   "cell_type": "markdown",
   "metadata": {},
   "source": [
    "# Example Agent web search\n",
    "\n",
    "Summarize a web search and perform an evaluation of whether the question is answered or not"
   ]
  },
  {
   "cell_type": "code",
   "execution_count": 1,
   "metadata": {},
   "outputs": [],
   "source": [
    "import time\n",
    "\n",
    "from langchain_community.tools import DuckDuckGoSearchResults\n",
    "from langchain_community.chat_models import ChatOllama\n",
    "from langchain.output_parsers import CommaSeparatedListOutputParser\n",
    "\n",
    "from typing_extensions import TypedDict\n",
    "\n",
    "from langgraph.graph import StateGraph\n",
    "\n",
    "from langchain_core.prompts import PromptTemplate\n",
    "\n",
    "from IPython.display import Image, display\n",
    "\n",
    "llm = ChatOllama(model = \"llama3\", base_url=\"http://ollama:11434\")"
   ]
  },
  {
   "cell_type": "code",
   "execution_count": 2,
   "metadata": {},
   "outputs": [],
   "source": [
    "class State(TypedDict):\n",
    "    question: str\n",
    "    enhancedQuestions: list[str]\n",
    "    webSearch: str\n",
    "    generation: str\n",
    "    nPoints: int\n",
    "    nQuestions: int\n",
    "    graded: str\n",
    "    iter: int\n",
    "    maxIters: int"
   ]
  },
  {
   "cell_type": "markdown",
   "metadata": {},
   "source": [
    "## Question enhancement"
   ]
  },
  {
   "cell_type": "code",
   "execution_count": 3,
   "metadata": {},
   "outputs": [],
   "source": [
    "# Summarizer node\n",
    "prompt = \"\"\"You are an expert in creating search queries for web searching. Create {nQuestions} questions to retrieve information regarding the following question {question}.\n",
    "Reply in the same anguage as the original question. Reply only with the generated questions separated by line breaks and no preamble.\"\"\"\n",
    "\n",
    "promptTemplate = PromptTemplate.from_template(prompt)\n",
    "\n",
    "questionEnhancer = promptTemplate | llm\n",
    "\n",
    "def enhance(state: State):\n",
    "    print(\"-----------Enhancing question-----------\")\n",
    "    questions = questionEnhancer.invoke({\"nQuestions\": str(state[\"nQuestions\"]), \"question\": state[\"question\"]}).content\n",
    "    questions = [x for x in questions.split(\"\\n\") if x !=\"\"]\n",
    "    print(f\"{questions=}\")\n",
    "    return {\"enhancedQuestions\": questions, \"iter\": state[\"iter\"] + 1} "
   ]
  },
  {
   "cell_type": "markdown",
   "metadata": {},
   "source": [
    "## Search node"
   ]
  },
  {
   "cell_type": "code",
   "execution_count": 4,
   "metadata": {},
   "outputs": [],
   "source": [
    "# search node\n",
    "webSearch = DuckDuckGoSearchResults(max_results=2,)\n",
    "\n",
    "def getInfo(state: State):\n",
    "    print(\"-----------Searching-----------\")\n",
    "    questions = [state[\"question\"]] + state[\"enhancedQuestions\"]\n",
    "    result = \"\"\n",
    "    for question in questions:\n",
    "        print(result)\n",
    "        result += question + \":\\n\\n\" + webSearch.invoke(question)\n",
    "        time.sleep(0.5)\n",
    "    print(result)\n",
    "    return {\"webSearch\": result}"
   ]
  },
  {
   "cell_type": "markdown",
   "metadata": {},
   "source": [
    "## Summarizing node"
   ]
  },
  {
   "cell_type": "code",
   "execution_count": 6,
   "metadata": {},
   "outputs": [],
   "source": [
    "# Summarizer node\n",
    "prompt = \"\"\"You are an expert in summarizing text. Summarize the following text in {nPoints} bulletpoints,\n",
    "\n",
    "{text}.\n",
    "\n",
    "Reply in the same language as the text.\n",
    "Reply only with the {nPoints} bullets and no preamble.\"\"\"\n",
    "\n",
    "promptTemplate = PromptTemplate.from_template(prompt)\n",
    "\n",
    "summarizer = promptTemplate | llm\n",
    "\n",
    "def summarize(state: State):\n",
    "    print(\"-----------Summarizing-----------\")\n",
    "    result = summarizer.invoke({\"nPoints\": str(state[\"nPoints\"]), \"text\": state[\"webSearch\"]}).content\n",
    "    print(result)\n",
    "    return {\"generation\": result} # \"Potatoes are a yellow fruit that grows on trees. They are delicious but almost extinct.\""
   ]
  },
  {
   "cell_type": "markdown",
   "metadata": {},
   "source": [
    "## Check answer"
   ]
  },
  {
   "cell_type": "code",
   "execution_count": 7,
   "metadata": {},
   "outputs": [],
   "source": [
    "prompt = \"\"\"You are an expert grader. Determine if the following bulletpoints,\n",
    "\n",
    "{bullets}\n",
    "\n",
    "answers the following question {question}.\n",
    "\n",
    "Reply only \"Sufficient\" if the bulletpoints answer the question and \"insufficient\" if the question is not answered. Do not give any preamble.\"\"\"\n",
    "\n",
    "promptTemplate = PromptTemplate.from_template(prompt)\n",
    "\n",
    "grader = promptTemplate | llm\n",
    "\n",
    "def grade(state: State):\n",
    "    print(\"-----------Grading answer-----------\")\n",
    "    result = grader.invoke({\"bullets\": str(state[\"generation\"]), \"question\": state[\"question\"]}).content\n",
    "    print(result)\n",
    "    return {\"graded\": result}"
   ]
  },
  {
   "cell_type": "markdown",
   "metadata": {},
   "source": [
    "## Route graded answer"
   ]
  },
  {
   "cell_type": "code",
   "execution_count": 8,
   "metadata": {},
   "outputs": [],
   "source": [
    "def gradeRouter(state: State):\n",
    "    grade = state[\"graded\"]\n",
    "    print(\"-------------Routing---------------\")\n",
    "    print(grade)\n",
    "    if grade == \"Sufficient\" or state[\"iter\"] >= state[\"maxIters\"]:\n",
    "        return \"__end__\"\n",
    "    else:\n",
    "        return \"enhancer\""
   ]
  },
  {
   "cell_type": "markdown",
   "metadata": {},
   "source": [
    "## Build graph"
   ]
  },
  {
   "cell_type": "code",
   "execution_count": 9,
   "metadata": {},
   "outputs": [],
   "source": [
    "graphBuilder = StateGraph(State)\n",
    "\n",
    "graphBuilder.add_node(\"generator\", summarize)\n",
    "graphBuilder.add_node(\"search\", getInfo)\n",
    "graphBuilder.add_node(\"grader\", grade)\n",
    "graphBuilder.add_node(\"enhancer\", enhance)\n",
    "\n",
    "graphBuilder.add_edge(\"enhancer\", \"search\")\n",
    "graphBuilder.add_edge(\"search\", \"generator\")\n",
    "graphBuilder.add_edge(\"generator\",\"grader\")\n",
    "\n",
    "graphBuilder.add_conditional_edges(\"grader\", gradeRouter,\n",
    "                                   {\"__end__\": \"__end__\", \"enhancer\": \"enhancer\"})\n",
    "\n",
    "graphBuilder.set_entry_point(\"enhancer\")\n",
    "graph = graphBuilder.compile()\n"
   ]
  },
  {
   "cell_type": "markdown",
   "metadata": {},
   "source": [
    "## Visualize graph"
   ]
  },
  {
   "cell_type": "code",
   "execution_count": 10,
   "metadata": {},
   "outputs": [
    {
     "data": {
      "image/jpeg": "[encoded data removed]",
      "text/plain": [
       "<IPython.core.display.Image object>"
      ]
     },
     "metadata": {},
     "output_type": "display_data"
    }
   ],
   "source": [
    "try:\n",
    "    display(Image(graph.get_graph().draw_mermaid_png()))\n",
    "except Exception:\n",
    "    # This requires some extra dependencies and is optional\n",
    "    pass"
   ]
  },
  {
   "cell_type": "markdown",
   "metadata": {},
   "source": [
    "## Testing"
   ]
  },
  {
   "cell_type": "code",
   "execution_count": 11,
   "metadata": {},
   "outputs": [
    {
     "name": "stdout",
     "output_type": "stream",
     "text": [
      "-----------Enhancing question-----------\n",
      "questions=['Vad är definitionen av barnskötare?', 'Hur beskrivs funktionen hos barnskötare i olika kulturer?', 'Vilken information finns tillgänglig om traditionella och moderna barnskötare?']\n",
      "-----------Searching-----------\n",
      "\n",
      "Vad gör en barnskötare?:\n",
      "\n",
      "[snippet: Vad gör en barnskötare? En barnskötare arbetar på en förskola med uppdraget att se till så att alla barn får sina behov tillgodosedda samtidigt som de utvecklas, mår bra och har roligt. Du blir barnskötare genom att till exempel gå barn- och fritidsprogrammet på gymnasiet eller genom en yrkesutbildning på komvux., title: Hur blir man barnskötare? | Indeed.com Sverige, link: https://se.indeed.com/karriarrad/hitta-ett-jobb/hur-bli-barnskotare], [snippet: Vad gör en barnskötare? Barnskötaren och förskollärarna hjälps åt med arbetsuppgifterna i det dagliga arbetet. Barnskötaren deltar i lek och aktiviteter och hjälper till vid måltider och sovstunder. Förskollärarna har det pedagogiska ansvaret, men som barnskötare deltar du i den pedagogiska planeringen. Viktiga delar av arbetet är ..., title: Så blir du barnskötare - Studentum, link: https://www.studentum.se/yrkesguiden/barnskotare-23970], [snippet: Vad gör en barnskötare? Att arbeta med barn betyder att du får vara en del av barnens utveckling. Ingen dag är den andra lik, vilket kan vara både roligt och krävande. Om du är kreativ, älskar barn och trivs i en aktiv arbetsmiljö kan barnskötare vara det perfekta jobbet för dig., title: Vill du utbilda dig till barnskötare? | Indeed.com Sverige, link: https://se.indeed.com/karriarrad/karriarutveckling/barnskotare-utbildning], [snippet: Vad gör en barnskötare? En barnskötare är en person som tar hand om barn på antingen förskola eller skola. För att jobba med barn behöver du ha uppnått behörighet från till exempel barn- och fritidsprogrammet på gymnasiet. Dina arbetsuppgifter som barnskötare går ut på att hjälpa barnen med både praktiska och mentala moment., title: Vilken behörighet behöver en barnskötare? | Indeed.com Sverige, link: https://se.indeed.com/karriarrad/karriarutveckling/barnskotare-behorighet]\n",
      "Vad gör en barnskötare?:\n",
      "\n",
      "[snippet: Vad gör en barnskötare? En barnskötare arbetar på en förskola med uppdraget att se till så att alla barn får sina behov tillgodosedda samtidigt som de utvecklas, mår bra och har roligt. Du blir barnskötare genom att till exempel gå barn- och fritidsprogrammet på gymnasiet eller genom en yrkesutbildning på komvux., title: Hur blir man barnskötare? | Indeed.com Sverige, link: https://se.indeed.com/karriarrad/hitta-ett-jobb/hur-bli-barnskotare], [snippet: Vad gör en barnskötare? Barnskötaren och förskollärarna hjälps åt med arbetsuppgifterna i det dagliga arbetet. Barnskötaren deltar i lek och aktiviteter och hjälper till vid måltider och sovstunder. Förskollärarna har det pedagogiska ansvaret, men som barnskötare deltar du i den pedagogiska planeringen. Viktiga delar av arbetet är ..., title: Så blir du barnskötare - Studentum, link: https://www.studentum.se/yrkesguiden/barnskotare-23970], [snippet: Vad gör en barnskötare? Att arbeta med barn betyder att du får vara en del av barnens utveckling. Ingen dag är den andra lik, vilket kan vara både roligt och krävande. Om du är kreativ, älskar barn och trivs i en aktiv arbetsmiljö kan barnskötare vara det perfekta jobbet för dig., title: Vill du utbilda dig till barnskötare? | Indeed.com Sverige, link: https://se.indeed.com/karriarrad/karriarutveckling/barnskotare-utbildning], [snippet: Vad gör en barnskötare? En barnskötare är en person som tar hand om barn på antingen förskola eller skola. För att jobba med barn behöver du ha uppnått behörighet från till exempel barn- och fritidsprogrammet på gymnasiet. Dina arbetsuppgifter som barnskötare går ut på att hjälpa barnen med både praktiska och mentala moment., title: Vilken behörighet behöver en barnskötare? | Indeed.com Sverige, link: https://se.indeed.com/karriarrad/karriarutveckling/barnskotare-behorighet]Vad är definitionen av barnskötare?:\n",
      "\n",
      "[snippet: Vad gör en barnskötare? Barnskötaren och förskollärarna hjälps åt med arbetsuppgifterna i det dagliga arbetet. Barnskötaren deltar i lek och aktiviteter och hjälper till vid måltider och sovstunder. Förskollärarna har det pedagogiska ansvaret, men som barnskötare deltar du i den pedagogiska planeringen. Viktiga delar av arbetet är bland annat dokumentation och planering av olika ..., title: Så blir du barnskötare - Studentum, link: https://www.studentum.se/yrkesguiden/barnskotare-23970], [snippet: Vad gör en barnskötare? En barnskötare är en person som tar hand om barn på antingen förskola eller skola. För att jobba med barn behöver du ha uppnått behörighet från till exempel barn- och fritidsprogrammet på gymnasiet. Dina arbetsuppgifter som barnskötare går ut på att hjälpa barnen med både praktiska och mentala moment., title: Vilken behörighet behöver en barnskötare? | Indeed.com Sverige, link: https://se.indeed.com/karriarrad/karriarutveckling/barnskotare-behorighet], [snippet: Vad gör en barnskötare? Att arbeta med barn betyder att du får vara en del av barnens utveckling. Ingen dag är den andra lik, vilket kan vara både roligt och krävande. Om du är kreativ, älskar barn och trivs i en aktiv arbetsmiljö kan barnskötare vara det perfekta jobbet för dig., title: Vill du utbilda dig till barnskötare? | Indeed.com Sverige, link: https://se.indeed.com/karriarrad/karriarutveckling/barnskotare-utbildning], [snippet: Undrar du hur man blir barnskötare? Det finns tydliga steg att ta när det kommer till att utbilda sig till barnskötare. Ta första steget mot ett givande arbete., title: Hur blir man barnskötare? | Indeed.com Sverige, link: https://se.indeed.com/karriarrad/hitta-ett-jobb/hur-bli-barnskotare]\n",
      "Vad gör en barnskötare?:\n",
      "\n",
      "[snippet: Vad gör en barnskötare? En barnskötare arbetar på en förskola med uppdraget att se till så att alla barn får sina behov tillgodosedda samtidigt som de utvecklas, mår bra och har roligt. Du blir barnskötare genom att till exempel gå barn- och fritidsprogrammet på gymnasiet eller genom en yrkesutbildning på komvux., title: Hur blir man barnskötare? | Indeed.com Sverige, link: https://se.indeed.com/karriarrad/hitta-ett-jobb/hur-bli-barnskotare], [snippet: Vad gör en barnskötare? Barnskötaren och förskollärarna hjälps åt med arbetsuppgifterna i det dagliga arbetet. Barnskötaren deltar i lek och aktiviteter och hjälper till vid måltider och sovstunder. Förskollärarna har det pedagogiska ansvaret, men som barnskötare deltar du i den pedagogiska planeringen. Viktiga delar av arbetet är ..., title: Så blir du barnskötare - Studentum, link: https://www.studentum.se/yrkesguiden/barnskotare-23970], [snippet: Vad gör en barnskötare? Att arbeta med barn betyder att du får vara en del av barnens utveckling. Ingen dag är den andra lik, vilket kan vara både roligt och krävande. Om du är kreativ, älskar barn och trivs i en aktiv arbetsmiljö kan barnskötare vara det perfekta jobbet för dig., title: Vill du utbilda dig till barnskötare? | Indeed.com Sverige, link: https://se.indeed.com/karriarrad/karriarutveckling/barnskotare-utbildning], [snippet: Vad gör en barnskötare? En barnskötare är en person som tar hand om barn på antingen förskola eller skola. För att jobba med barn behöver du ha uppnått behörighet från till exempel barn- och fritidsprogrammet på gymnasiet. Dina arbetsuppgifter som barnskötare går ut på att hjälpa barnen med både praktiska och mentala moment., title: Vilken behörighet behöver en barnskötare? | Indeed.com Sverige, link: https://se.indeed.com/karriarrad/karriarutveckling/barnskotare-behorighet]Vad är definitionen av barnskötare?:\n",
      "\n",
      "[snippet: Vad gör en barnskötare? Barnskötaren och förskollärarna hjälps åt med arbetsuppgifterna i det dagliga arbetet. Barnskötaren deltar i lek och aktiviteter och hjälper till vid måltider och sovstunder. Förskollärarna har det pedagogiska ansvaret, men som barnskötare deltar du i den pedagogiska planeringen. Viktiga delar av arbetet är bland annat dokumentation och planering av olika ..., title: Så blir du barnskötare - Studentum, link: https://www.studentum.se/yrkesguiden/barnskotare-23970], [snippet: Vad gör en barnskötare? En barnskötare är en person som tar hand om barn på antingen förskola eller skola. För att jobba med barn behöver du ha uppnått behörighet från till exempel barn- och fritidsprogrammet på gymnasiet. Dina arbetsuppgifter som barnskötare går ut på att hjälpa barnen med både praktiska och mentala moment., title: Vilken behörighet behöver en barnskötare? | Indeed.com Sverige, link: https://se.indeed.com/karriarrad/karriarutveckling/barnskotare-behorighet], [snippet: Vad gör en barnskötare? Att arbeta med barn betyder att du får vara en del av barnens utveckling. Ingen dag är den andra lik, vilket kan vara både roligt och krävande. Om du är kreativ, älskar barn och trivs i en aktiv arbetsmiljö kan barnskötare vara det perfekta jobbet för dig., title: Vill du utbilda dig till barnskötare? | Indeed.com Sverige, link: https://se.indeed.com/karriarrad/karriarutveckling/barnskotare-utbildning], [snippet: Undrar du hur man blir barnskötare? Det finns tydliga steg att ta när det kommer till att utbilda sig till barnskötare. Ta första steget mot ett givande arbete., title: Hur blir man barnskötare? | Indeed.com Sverige, link: https://se.indeed.com/karriarrad/hitta-ett-jobb/hur-bli-barnskotare]Hur beskrivs funktionen hos barnskötare i olika kulturer?:\n",
      "\n",
      "[snippet: Så utbildar du dig till barnskötare. För att bli barnskötare krävs ofta en gymnasieutbildning inom barn- och fritidsprogrammet eller motsvarande. Du kan även gå en barnskötarutbildning via komvux, det vill säga en vuxenutbildning. Utbildningen är i de flesta fall 1,5 år och är studiemedelsberättigad., title: Så blir du barnskötare - Studentum, link: https://www.studentum.se/yrkesguiden/barnskotare-23970], [snippet: Sammanfattningsvis är barnuppfostran i olika kulturer en komplex och varierad fråga. Den påverkas av kulturella, religiösa och historiska faktorer och formar i hög grad hur barnen uppfattar världen och sitt eget ansvar i samhället., title: Barnuppfostran i olika kulturer: skillnader och likheter, link: https://barnhubben.se/barnuppfostran-i-olika-kulturer/], [snippet: Traditionell musik och dans: Varje kultur har sin egen unika musik och dansstilar som förmedlar historier och känslor. Folkkonst: Målningar och skulpturer som ofta har religiösa eller historiska teman. Matkultur: Recept och matlagningstekniker som har gått i arv i familjer., title: Olika typer av kultur - Svenska Kulturlandskap, link: https://svenskakulturlandskap.se/olika-typer-av-kultur/], [snippet: Vidareutbildning för barnskötare. Om du som barnskötare vill vidareutbilda dig finns det, utöver vidareutbildningen till förskollärare, många olika områden där det finns möjlighet att utveckla sin kompetens. Som barnskötare arbetar du tillsammans med förskollärare med att ta hand om barn. Att ge barnen praktisk hjälp och stimulera ..., title: Vidareutbildning för barnskötare - vägledning för din karriär, link: https://www.utbildning.se/inspiration/karriarguiden/barnskotare-10387]\n",
      "Vad gör en barnskötare?:\n",
      "\n",
      "[snippet: Vad gör en barnskötare? En barnskötare arbetar på en förskola med uppdraget att se till så att alla barn får sina behov tillgodosedda samtidigt som de utvecklas, mår bra och har roligt. Du blir barnskötare genom att till exempel gå barn- och fritidsprogrammet på gymnasiet eller genom en yrkesutbildning på komvux., title: Hur blir man barnskötare? | Indeed.com Sverige, link: https://se.indeed.com/karriarrad/hitta-ett-jobb/hur-bli-barnskotare], [snippet: Vad gör en barnskötare? Barnskötaren och förskollärarna hjälps åt med arbetsuppgifterna i det dagliga arbetet. Barnskötaren deltar i lek och aktiviteter och hjälper till vid måltider och sovstunder. Förskollärarna har det pedagogiska ansvaret, men som barnskötare deltar du i den pedagogiska planeringen. Viktiga delar av arbetet är ..., title: Så blir du barnskötare - Studentum, link: https://www.studentum.se/yrkesguiden/barnskotare-23970], [snippet: Vad gör en barnskötare? Att arbeta med barn betyder att du får vara en del av barnens utveckling. Ingen dag är den andra lik, vilket kan vara både roligt och krävande. Om du är kreativ, älskar barn och trivs i en aktiv arbetsmiljö kan barnskötare vara det perfekta jobbet för dig., title: Vill du utbilda dig till barnskötare? | Indeed.com Sverige, link: https://se.indeed.com/karriarrad/karriarutveckling/barnskotare-utbildning], [snippet: Vad gör en barnskötare? En barnskötare är en person som tar hand om barn på antingen förskola eller skola. För att jobba med barn behöver du ha uppnått behörighet från till exempel barn- och fritidsprogrammet på gymnasiet. Dina arbetsuppgifter som barnskötare går ut på att hjälpa barnen med både praktiska och mentala moment., title: Vilken behörighet behöver en barnskötare? | Indeed.com Sverige, link: https://se.indeed.com/karriarrad/karriarutveckling/barnskotare-behorighet]Vad är definitionen av barnskötare?:\n",
      "\n",
      "[snippet: Vad gör en barnskötare? Barnskötaren och förskollärarna hjälps åt med arbetsuppgifterna i det dagliga arbetet. Barnskötaren deltar i lek och aktiviteter och hjälper till vid måltider och sovstunder. Förskollärarna har det pedagogiska ansvaret, men som barnskötare deltar du i den pedagogiska planeringen. Viktiga delar av arbetet är bland annat dokumentation och planering av olika ..., title: Så blir du barnskötare - Studentum, link: https://www.studentum.se/yrkesguiden/barnskotare-23970], [snippet: Vad gör en barnskötare? En barnskötare är en person som tar hand om barn på antingen förskola eller skola. För att jobba med barn behöver du ha uppnått behörighet från till exempel barn- och fritidsprogrammet på gymnasiet. Dina arbetsuppgifter som barnskötare går ut på att hjälpa barnen med både praktiska och mentala moment., title: Vilken behörighet behöver en barnskötare? | Indeed.com Sverige, link: https://se.indeed.com/karriarrad/karriarutveckling/barnskotare-behorighet], [snippet: Vad gör en barnskötare? Att arbeta med barn betyder att du får vara en del av barnens utveckling. Ingen dag är den andra lik, vilket kan vara både roligt och krävande. Om du är kreativ, älskar barn och trivs i en aktiv arbetsmiljö kan barnskötare vara det perfekta jobbet för dig., title: Vill du utbilda dig till barnskötare? | Indeed.com Sverige, link: https://se.indeed.com/karriarrad/karriarutveckling/barnskotare-utbildning], [snippet: Undrar du hur man blir barnskötare? Det finns tydliga steg att ta när det kommer till att utbilda sig till barnskötare. Ta första steget mot ett givande arbete., title: Hur blir man barnskötare? | Indeed.com Sverige, link: https://se.indeed.com/karriarrad/hitta-ett-jobb/hur-bli-barnskotare]Hur beskrivs funktionen hos barnskötare i olika kulturer?:\n",
      "\n",
      "[snippet: Så utbildar du dig till barnskötare. För att bli barnskötare krävs ofta en gymnasieutbildning inom barn- och fritidsprogrammet eller motsvarande. Du kan även gå en barnskötarutbildning via komvux, det vill säga en vuxenutbildning. Utbildningen är i de flesta fall 1,5 år och är studiemedelsberättigad., title: Så blir du barnskötare - Studentum, link: https://www.studentum.se/yrkesguiden/barnskotare-23970], [snippet: Sammanfattningsvis är barnuppfostran i olika kulturer en komplex och varierad fråga. Den påverkas av kulturella, religiösa och historiska faktorer och formar i hög grad hur barnen uppfattar världen och sitt eget ansvar i samhället., title: Barnuppfostran i olika kulturer: skillnader och likheter, link: https://barnhubben.se/barnuppfostran-i-olika-kulturer/], [snippet: Traditionell musik och dans: Varje kultur har sin egen unika musik och dansstilar som förmedlar historier och känslor. Folkkonst: Målningar och skulpturer som ofta har religiösa eller historiska teman. Matkultur: Recept och matlagningstekniker som har gått i arv i familjer., title: Olika typer av kultur - Svenska Kulturlandskap, link: https://svenskakulturlandskap.se/olika-typer-av-kultur/], [snippet: Vidareutbildning för barnskötare. Om du som barnskötare vill vidareutbilda dig finns det, utöver vidareutbildningen till förskollärare, många olika områden där det finns möjlighet att utveckla sin kompetens. Som barnskötare arbetar du tillsammans med förskollärare med att ta hand om barn. Att ge barnen praktisk hjälp och stimulera ..., title: Vidareutbildning för barnskötare - vägledning för din karriär, link: https://www.utbildning.se/inspiration/karriarguiden/barnskotare-10387]Vilken information finns tillgänglig om traditionella och moderna barnskötare?:\n",
      "\n",
      "[snippet: För att bli barnskötare krävs ofta en gymnasieutbildning inom barn- och fritidsprogrammet eller motsvarande. Du kan även gå en barnskötarutbildning via komvux, det vill säga en vuxenutbildning. Utbildningen är i de flesta fall 1,5 år och är studiemedelsberättigad. Utbildning till barnskötare på universitet och högskola., title: Så blir du barnskötare - Studentum, link: https://www.studentum.se/yrkesguiden/barnskotare-23970], [snippet: Utbildningen till barnskötare ska bli mer ändamålsenlig. Publicerad 07 maj 2024. Barnskötare är den största yrkesgruppen i förskolan och spelar en viktig roll för barnens trygghet, omsorg och sociala utveckling. Det är i dag för stor variation på de utbildningar till barnskötare som finns. Utbildningarna behöver bli mer anpassade ..., title: Utbildningen till barnskötare ska bli mer ändamålsenlig, link: https://www.regeringen.se/pressmeddelanden/2024/05/utbildningen-till-barnskotare-ska-bli-mer-andamalsenlig/], [snippet: Det kan därför vara en god idé att fråga din arbetsgivare om vilken möjlighet som finns till vidareutbildning, och även finansiering av vidareutbildningen, innan du ansöker på egen hand. Relaterade artiklar: Skriv ett vinnande CV som barnskötare; Skriva personligt brev som barnskötare; Jobba med barn: yrkesroller, utbildning och ..., title: Vidareutbildning för barnskötare - så vidareutbildar du dig - Indeed, link: https://se.indeed.com/karriarrad/karriarutveckling/vidareutbildning-barnskotare], [snippet: Vidareutbildning för barnskötare. Om du som barnskötare vill vidareutbilda dig finns det, utöver vidareutbildningen till förskollärare, många olika områden där det finns möjlighet att utveckla sin kompetens. Som barnskötare arbetar du tillsammans med förskollärare med att ta hand om barn. Att ge barnen praktisk hjälp och stimulera ..., title: Vidareutbildning för barnskötare - vägledning för din karriär, link: https://www.utbildning.se/inspiration/karriarguiden/barnskotare-10387]\n",
      "-----------Summarizing-----------\n",
      "• För att bli barnskötare krävs ofta en gymnasieutbildning inom barn- och fritidsprogrammet eller motsvarande.\n",
      "• Du kan även gå en barnskötarutbildning via komvux, det vill säga en vuxenutbildning. Utbildningen är i de flesta fall 1,5 år och är studiemedelsberättigad.\n",
      "• Om du som barnskötare vill vidareutbilda dig finns det, utöver vidareutbildningen till förskollärare, många olika områden där det finns möjlighet att utveckla sin kompetens.\n",
      "• Barnuppfostran i olika kulturer är en komplex och varierad fråga som påverkas av kulturella, religiösa och historiska faktorer.\n",
      "-----------Grading answer-----------\n",
      "Insufficient\n",
      "-------------Routing---------------\n",
      "Insufficient\n",
      "-----------Enhancing question-----------\n",
      "questions=['Vad är definitionen av barnskötare?', 'Vad säger svenska läkarorganisationer om barnskötarens funktion?', 'Hur definierar svensk hälsoverkikt barnskötarens uppgifter och ansvar?']\n",
      "-----------Searching-----------\n",
      "\n",
      "Vad gör en barnskötare?:\n",
      "\n",
      "[snippet: Vad gör en barnskötare? En barnskötare arbetar på en förskola med uppdraget att se till så att alla barn får sina behov tillgodosedda samtidigt som de utvecklas, mår bra och har roligt. Du blir barnskötare genom att till exempel gå barn- och fritidsprogrammet på gymnasiet eller genom en yrkesutbildning på komvux., title: Hur blir man barnskötare? | Indeed.com Sverige, link: https://se.indeed.com/karriarrad/hitta-ett-jobb/hur-bli-barnskotare], [snippet: Vad gör en barnskötare? Barnskötaren och förskollärarna hjälps åt med arbetsuppgifterna i det dagliga arbetet. Barnskötaren deltar i lek och aktiviteter och hjälper till vid måltider och sovstunder. Förskollärarna har det pedagogiska ansvaret, men som barnskötare deltar du i den pedagogiska planeringen. Viktiga delar av arbetet är ..., title: Så blir du barnskötare - Studentum, link: https://www.studentum.se/yrkesguiden/barnskotare-23970], [snippet: Vad gör en barnskötare? Att arbeta med barn betyder att du får vara en del av barnens utveckling. Ingen dag är den andra lik, vilket kan vara både roligt och krävande. Om du är kreativ, älskar barn och trivs i en aktiv arbetsmiljö kan barnskötare vara det perfekta jobbet för dig., title: Vill du utbilda dig till barnskötare? | Indeed.com Sverige, link: https://se.indeed.com/karriarrad/karriarutveckling/barnskotare-utbildning], [snippet: Vad gör en barnskötare? En barnskötare är en person som tar hand om barn på antingen förskola eller skola. För att jobba med barn behöver du ha uppnått behörighet från till exempel barn- och fritidsprogrammet på gymnasiet. Dina arbetsuppgifter som barnskötare går ut på att hjälpa barnen med både praktiska och mentala moment., title: Vilken behörighet behöver en barnskötare? | Indeed.com Sverige, link: https://se.indeed.com/karriarrad/karriarutveckling/barnskotare-behorighet]\n",
      "Vad gör en barnskötare?:\n",
      "\n",
      "[snippet: Vad gör en barnskötare? En barnskötare arbetar på en förskola med uppdraget att se till så att alla barn får sina behov tillgodosedda samtidigt som de utvecklas, mår bra och har roligt. Du blir barnskötare genom att till exempel gå barn- och fritidsprogrammet på gymnasiet eller genom en yrkesutbildning på komvux., title: Hur blir man barnskötare? | Indeed.com Sverige, link: https://se.indeed.com/karriarrad/hitta-ett-jobb/hur-bli-barnskotare], [snippet: Vad gör en barnskötare? Barnskötaren och förskollärarna hjälps åt med arbetsuppgifterna i det dagliga arbetet. Barnskötaren deltar i lek och aktiviteter och hjälper till vid måltider och sovstunder. Förskollärarna har det pedagogiska ansvaret, men som barnskötare deltar du i den pedagogiska planeringen. Viktiga delar av arbetet är ..., title: Så blir du barnskötare - Studentum, link: https://www.studentum.se/yrkesguiden/barnskotare-23970], [snippet: Vad gör en barnskötare? Att arbeta med barn betyder att du får vara en del av barnens utveckling. Ingen dag är den andra lik, vilket kan vara både roligt och krävande. Om du är kreativ, älskar barn och trivs i en aktiv arbetsmiljö kan barnskötare vara det perfekta jobbet för dig., title: Vill du utbilda dig till barnskötare? | Indeed.com Sverige, link: https://se.indeed.com/karriarrad/karriarutveckling/barnskotare-utbildning], [snippet: Vad gör en barnskötare? En barnskötare är en person som tar hand om barn på antingen förskola eller skola. För att jobba med barn behöver du ha uppnått behörighet från till exempel barn- och fritidsprogrammet på gymnasiet. Dina arbetsuppgifter som barnskötare går ut på att hjälpa barnen med både praktiska och mentala moment., title: Vilken behörighet behöver en barnskötare? | Indeed.com Sverige, link: https://se.indeed.com/karriarrad/karriarutveckling/barnskotare-behorighet]Vad är definitionen av barnskötare?:\n",
      "\n",
      "[snippet: För att bli barnskötare krävs ofta en gymnasieutbildning inom barn- och fritidsprogrammet eller motsvarande. Du kan även gå en barnskötarutbildning via komvux, det vill säga en vuxenutbildning. Utbildningen är i de flesta fall 1,5 år och är studiemedelsberättigad. Utbildning till barnskötare på universitet och högskola., title: Så blir du barnskötare - Studentum, link: https://www.studentum.se/yrkesguiden/barnskotare-23970], [snippet: Vad gör en barnskötare? Att arbeta med barn betyder att du får vara en del av barnens utveckling. Ingen dag är den andra lik, vilket kan vara både roligt och krävande. Om du är kreativ, älskar barn och trivs i en aktiv arbetsmiljö kan barnskötare vara det perfekta jobbet för dig., title: Vill du utbilda dig till barnskötare? | Indeed.com Sverige, link: https://se.indeed.com/karriarrad/karriarutveckling/barnskotare-utbildning], [snippet: En av de mest påtagliga fördelarna med att anställa en barnskötare är tidens gåva. För många föräldrar kan jongleringsarbete, barnomsorg och hushållsuppgifter vara överväldigande. En barnskötare lindrar denna börda genom att ta på sig en betydande del av de dagliga uppgifterna, frigöra värdefulla timmar för föräldrar att ..., title: Fördelarna med en barnskötare i ditt hem: mer än bara en hjälpande hand ..., link: https://irvingscott.com/sv/insights/fordelarna-med-en-barnskotare/], [snippet: Specialistbarnskötare blir du genom att som barnskötare gå en yrkeshögskoleutbildning på 200 YH-poäng. Det är vanligt förekommande att man går vidareutbildningen på halvfart samtidigt som man parallellt med studierna fortsätter att jobba som barnskötare. Du studerar i så fall ungefär 20 timmar i veckan under en tvåårsperiod., title: Hur blir man barnskötare? | Indeed.com Sverige, link: https://se.indeed.com/karriarrad/hitta-ett-jobb/hur-bli-barnskotare]\n",
      "Vad gör en barnskötare?:\n",
      "\n",
      "[snippet: Vad gör en barnskötare? En barnskötare arbetar på en förskola med uppdraget att se till så att alla barn får sina behov tillgodosedda samtidigt som de utvecklas, mår bra och har roligt. Du blir barnskötare genom att till exempel gå barn- och fritidsprogrammet på gymnasiet eller genom en yrkesutbildning på komvux., title: Hur blir man barnskötare? | Indeed.com Sverige, link: https://se.indeed.com/karriarrad/hitta-ett-jobb/hur-bli-barnskotare], [snippet: Vad gör en barnskötare? Barnskötaren och förskollärarna hjälps åt med arbetsuppgifterna i det dagliga arbetet. Barnskötaren deltar i lek och aktiviteter och hjälper till vid måltider och sovstunder. Förskollärarna har det pedagogiska ansvaret, men som barnskötare deltar du i den pedagogiska planeringen. Viktiga delar av arbetet är ..., title: Så blir du barnskötare - Studentum, link: https://www.studentum.se/yrkesguiden/barnskotare-23970], [snippet: Vad gör en barnskötare? Att arbeta med barn betyder att du får vara en del av barnens utveckling. Ingen dag är den andra lik, vilket kan vara både roligt och krävande. Om du är kreativ, älskar barn och trivs i en aktiv arbetsmiljö kan barnskötare vara det perfekta jobbet för dig., title: Vill du utbilda dig till barnskötare? | Indeed.com Sverige, link: https://se.indeed.com/karriarrad/karriarutveckling/barnskotare-utbildning], [snippet: Vad gör en barnskötare? En barnskötare är en person som tar hand om barn på antingen förskola eller skola. För att jobba med barn behöver du ha uppnått behörighet från till exempel barn- och fritidsprogrammet på gymnasiet. Dina arbetsuppgifter som barnskötare går ut på att hjälpa barnen med både praktiska och mentala moment., title: Vilken behörighet behöver en barnskötare? | Indeed.com Sverige, link: https://se.indeed.com/karriarrad/karriarutveckling/barnskotare-behorighet]Vad är definitionen av barnskötare?:\n",
      "\n",
      "[snippet: För att bli barnskötare krävs ofta en gymnasieutbildning inom barn- och fritidsprogrammet eller motsvarande. Du kan även gå en barnskötarutbildning via komvux, det vill säga en vuxenutbildning. Utbildningen är i de flesta fall 1,5 år och är studiemedelsberättigad. Utbildning till barnskötare på universitet och högskola., title: Så blir du barnskötare - Studentum, link: https://www.studentum.se/yrkesguiden/barnskotare-23970], [snippet: Vad gör en barnskötare? Att arbeta med barn betyder att du får vara en del av barnens utveckling. Ingen dag är den andra lik, vilket kan vara både roligt och krävande. Om du är kreativ, älskar barn och trivs i en aktiv arbetsmiljö kan barnskötare vara det perfekta jobbet för dig., title: Vill du utbilda dig till barnskötare? | Indeed.com Sverige, link: https://se.indeed.com/karriarrad/karriarutveckling/barnskotare-utbildning], [snippet: En av de mest påtagliga fördelarna med att anställa en barnskötare är tidens gåva. För många föräldrar kan jongleringsarbete, barnomsorg och hushållsuppgifter vara överväldigande. En barnskötare lindrar denna börda genom att ta på sig en betydande del av de dagliga uppgifterna, frigöra värdefulla timmar för föräldrar att ..., title: Fördelarna med en barnskötare i ditt hem: mer än bara en hjälpande hand ..., link: https://irvingscott.com/sv/insights/fordelarna-med-en-barnskotare/], [snippet: Specialistbarnskötare blir du genom att som barnskötare gå en yrkeshögskoleutbildning på 200 YH-poäng. Det är vanligt förekommande att man går vidareutbildningen på halvfart samtidigt som man parallellt med studierna fortsätter att jobba som barnskötare. Du studerar i så fall ungefär 20 timmar i veckan under en tvåårsperiod., title: Hur blir man barnskötare? | Indeed.com Sverige, link: https://se.indeed.com/karriarrad/hitta-ett-jobb/hur-bli-barnskotare]Vad säger svenska läkarorganisationer om barnskötarens funktion?:\n",
      "\n",
      "[snippet: Som en barnskötare spelar du en avgörande roll i att skapa en trygg och stimulerande miljö för barnen. Du stöttar deras utveckling och lärande, samtidigt som du samarbetar med föräldrar och vårdnadshavare. Dessutom kommer vi att diskutera vikten av yrkesmässig tillväxt och fortsatt utbildning inom detta område., title: Barnskötare - Detta är vad en barnskötare gör på jobbet - YA, link: https://www.ya-delegationen.se/barnskotare/], [snippet: För föräldrar är försäkran om att deras barn är i kapabla och omtänksamma händer ovärderlig, vilket gör att de kan engagera sig i sina egna sysselsättningar med ett klart sinne. Time Management Wonders: How a Nanny Housekeeper Can Reclaim Your Day . En av de mest påtagliga fördelarna med att anställa en barnskötare är tidens gåva., title: Fördelarna med en barnskötare i ditt hem: mer än bara en hjälpande hand ..., link: https://irvingscott.com/sv/insights/fordelarna-med-en-barnskotare/], [snippet: Vidareutbildning för barnskötare. Om du som barnskötare vill vidareutbilda dig finns det, utöver vidareutbildningen till förskollärare, många olika områden där det finns möjlighet att utveckla sin kompetens. Som barnskötare arbetar du tillsammans med förskollärare med att ta hand om barn. Att ge barnen praktisk hjälp och stimulera ..., title: Vidareutbildning för barnskötare - vägledning för din karriär, link: https://www.utbildning.se/inspiration/karriarguiden/barnskotare-10387], [snippet: Vården har ett tydligt ansvar. Hälso- och sjukvården och vårdpersonal ska särskilt beakta ett barns behov av information, råd och stöd när en förälder eller någon annan vuxen som barnet varaktigt bor med har vissa svårigheter. Det framgår av hälso- och sjukvårdslagen och patientsäkerhetslagen., title: Hälso- och sjukvårdens ansvar - Socialstyrelsen, link: https://www.socialstyrelsen.se/ser-du-mig/halso--och-sjukvardens-ansvar/]\n",
      "Vad gör en barnskötare?:\n",
      "\n",
      "[snippet: Vad gör en barnskötare? En barnskötare arbetar på en förskola med uppdraget att se till så att alla barn får sina behov tillgodosedda samtidigt som de utvecklas, mår bra och har roligt. Du blir barnskötare genom att till exempel gå barn- och fritidsprogrammet på gymnasiet eller genom en yrkesutbildning på komvux., title: Hur blir man barnskötare? | Indeed.com Sverige, link: https://se.indeed.com/karriarrad/hitta-ett-jobb/hur-bli-barnskotare], [snippet: Vad gör en barnskötare? Barnskötaren och förskollärarna hjälps åt med arbetsuppgifterna i det dagliga arbetet. Barnskötaren deltar i lek och aktiviteter och hjälper till vid måltider och sovstunder. Förskollärarna har det pedagogiska ansvaret, men som barnskötare deltar du i den pedagogiska planeringen. Viktiga delar av arbetet är ..., title: Så blir du barnskötare - Studentum, link: https://www.studentum.se/yrkesguiden/barnskotare-23970], [snippet: Vad gör en barnskötare? Att arbeta med barn betyder att du får vara en del av barnens utveckling. Ingen dag är den andra lik, vilket kan vara både roligt och krävande. Om du är kreativ, älskar barn och trivs i en aktiv arbetsmiljö kan barnskötare vara det perfekta jobbet för dig., title: Vill du utbilda dig till barnskötare? | Indeed.com Sverige, link: https://se.indeed.com/karriarrad/karriarutveckling/barnskotare-utbildning], [snippet: Vad gör en barnskötare? En barnskötare är en person som tar hand om barn på antingen förskola eller skola. För att jobba med barn behöver du ha uppnått behörighet från till exempel barn- och fritidsprogrammet på gymnasiet. Dina arbetsuppgifter som barnskötare går ut på att hjälpa barnen med både praktiska och mentala moment., title: Vilken behörighet behöver en barnskötare? | Indeed.com Sverige, link: https://se.indeed.com/karriarrad/karriarutveckling/barnskotare-behorighet]Vad är definitionen av barnskötare?:\n",
      "\n",
      "[snippet: För att bli barnskötare krävs ofta en gymnasieutbildning inom barn- och fritidsprogrammet eller motsvarande. Du kan även gå en barnskötarutbildning via komvux, det vill säga en vuxenutbildning. Utbildningen är i de flesta fall 1,5 år och är studiemedelsberättigad. Utbildning till barnskötare på universitet och högskola., title: Så blir du barnskötare - Studentum, link: https://www.studentum.se/yrkesguiden/barnskotare-23970], [snippet: Vad gör en barnskötare? Att arbeta med barn betyder att du får vara en del av barnens utveckling. Ingen dag är den andra lik, vilket kan vara både roligt och krävande. Om du är kreativ, älskar barn och trivs i en aktiv arbetsmiljö kan barnskötare vara det perfekta jobbet för dig., title: Vill du utbilda dig till barnskötare? | Indeed.com Sverige, link: https://se.indeed.com/karriarrad/karriarutveckling/barnskotare-utbildning], [snippet: En av de mest påtagliga fördelarna med att anställa en barnskötare är tidens gåva. För många föräldrar kan jongleringsarbete, barnomsorg och hushållsuppgifter vara överväldigande. En barnskötare lindrar denna börda genom att ta på sig en betydande del av de dagliga uppgifterna, frigöra värdefulla timmar för föräldrar att ..., title: Fördelarna med en barnskötare i ditt hem: mer än bara en hjälpande hand ..., link: https://irvingscott.com/sv/insights/fordelarna-med-en-barnskotare/], [snippet: Specialistbarnskötare blir du genom att som barnskötare gå en yrkeshögskoleutbildning på 200 YH-poäng. Det är vanligt förekommande att man går vidareutbildningen på halvfart samtidigt som man parallellt med studierna fortsätter att jobba som barnskötare. Du studerar i så fall ungefär 20 timmar i veckan under en tvåårsperiod., title: Hur blir man barnskötare? | Indeed.com Sverige, link: https://se.indeed.com/karriarrad/hitta-ett-jobb/hur-bli-barnskotare]Vad säger svenska läkarorganisationer om barnskötarens funktion?:\n",
      "\n",
      "[snippet: Som en barnskötare spelar du en avgörande roll i att skapa en trygg och stimulerande miljö för barnen. Du stöttar deras utveckling och lärande, samtidigt som du samarbetar med föräldrar och vårdnadshavare. Dessutom kommer vi att diskutera vikten av yrkesmässig tillväxt och fortsatt utbildning inom detta område., title: Barnskötare - Detta är vad en barnskötare gör på jobbet - YA, link: https://www.ya-delegationen.se/barnskotare/], [snippet: För föräldrar är försäkran om att deras barn är i kapabla och omtänksamma händer ovärderlig, vilket gör att de kan engagera sig i sina egna sysselsättningar med ett klart sinne. Time Management Wonders: How a Nanny Housekeeper Can Reclaim Your Day . En av de mest påtagliga fördelarna med att anställa en barnskötare är tidens gåva., title: Fördelarna med en barnskötare i ditt hem: mer än bara en hjälpande hand ..., link: https://irvingscott.com/sv/insights/fordelarna-med-en-barnskotare/], [snippet: Vidareutbildning för barnskötare. Om du som barnskötare vill vidareutbilda dig finns det, utöver vidareutbildningen till förskollärare, många olika områden där det finns möjlighet att utveckla sin kompetens. Som barnskötare arbetar du tillsammans med förskollärare med att ta hand om barn. Att ge barnen praktisk hjälp och stimulera ..., title: Vidareutbildning för barnskötare - vägledning för din karriär, link: https://www.utbildning.se/inspiration/karriarguiden/barnskotare-10387], [snippet: Vården har ett tydligt ansvar. Hälso- och sjukvården och vårdpersonal ska särskilt beakta ett barns behov av information, råd och stöd när en förälder eller någon annan vuxen som barnet varaktigt bor med har vissa svårigheter. Det framgår av hälso- och sjukvårdslagen och patientsäkerhetslagen., title: Hälso- och sjukvårdens ansvar - Socialstyrelsen, link: https://www.socialstyrelsen.se/ser-du-mig/halso--och-sjukvardens-ansvar/]Hur definierar svensk hälsoverkikt barnskötarens uppgifter och ansvar?:\n",
      "\n",
      "[snippet: Här kan du ta del av den reviderade versionen av Kompetensbeskrivningen för legitimerad sjuksköterska som utgör ett stöd för legitimerade sjuksköterskor, beslutsfattare och verksamhetsansvariga inom hälso-och sjukvård, sjuksköterskestudenter och lärare på lärosäten., title: Kompetensbeskrivning för legitimerad sjuksköterska | Svensk ..., link: https://swenurse.se/publikationer/kompetensbeskrivning-for-legitimerad-sjukskoterska], [snippet: Ansvarar för att det bedrivs hälso- och sjukvård av god kvalitet inom kommunens ansvarsområde. Ansvarar för att hälso- och sjukvårdspersonalens insatser sker i enlighet med gällande regelverk. Sjuksköterska är en skyddad yrkestitel enligt Socialstyrelsen. Legitimation krävs samt att arbetsuppgifterna huvudsakligen följer etiketten., title: Medicinskt ansvarig sjuksköterska (MAS) - Sveriges Kommuner och Regioner, link: https://skr.se/skr/arbetsgivarekollektivavtal/lonebildning/arbetsidentifikationaid/etikettlistaaid/aid/medicinsktansvarigsjukskoterskamas.80591.html], [snippet: Är du nyfiken på vad en barnskötare gör på jobbet? Sök inte längre! I den här artikeln kommer vi att utforska rollen som en barnskötare och deras dagliga uppgifter och ansvar. Som en barnskötare spelar du en avgörande roll i att skapa en trygg och stimulerande miljö för barnen. Du stöttar deras utveckling och lärande, samtidigt som du samarbetar med föräldrar och ..., title: Barnskötare - Detta är vad en barnskötare gör på jobbet - YA, link: https://www.ya-delegationen.se/barnskotare/], [snippet: Upptäck de mångfacetterade fördelarna med en barnskötare i ditt hem, som erbjuder omsorg, organisation och sinnesfrid för din familj., title: Fördelarna med en barnskötare i ditt hem: mer än bara en hjälpande hand, link: https://irvingscott.com/sv/insights/fordelarna-med-en-barnskotare/]\n",
      "-----------Summarizing-----------\n",
      "• Specialistbarnskötare blir du genom att som barnskötare gå en yrkeshögskoleutbildning på 200 YH-poäng.\n",
      "• Du studerar i så fall ungefär 20 timmar i veckan under en tvåårsperiod.\n",
      "• Som en barnskötare spelar du en avgörande roll i att skapa en trygg och stimulerande miljö för barnen.\n",
      "• Upptäck de mångfacetterade fördelarna med en barnskötare i ditt hem, som erbjuder omsorg, organisation och sinnesfrid för din familj.\n",
      "-----------Grading answer-----------\n",
      "Sufficient\n",
      "-------------Routing---------------\n",
      "Sufficient\n"
     ]
    }
   ],
   "source": [
    "finalState = graph.invoke({\"question\": \"Vad gör en barnskötare?\", \n",
    "                           \"nPoints\": 4, \"nQuestions\":3,\n",
    "                           \"maxIters\":3, \"iter\":0})"
   ]
  },
  {
   "cell_type": "code",
   "execution_count": 12,
   "metadata": {},
   "outputs": [
    {
     "name": "stdout",
     "output_type": "stream",
     "text": [
      "-----------Enhancing question-----------\n",
      "questions=['What are common mistakes statisticians make when analyzing data?', 'What pitfalls do researchers encounter when interpreting statistical results?', 'How can biases and assumptions impact statistical conclusions?']\n",
      "-----------Searching-----------\n",
      "\n",
      "What are common pitfalls in statistics??:\n",
      "\n",
      "[snippet: Data analysis and statistics can be a complex field with many common fallacies to be aware of. Knowledge of these pitfalls and actively working to avoid them will result in more accurate statistical conclusions that contribute to the advancement of evidence-based knowledge., title: 5 Statistical Fallacies and How to Avoid Them - Statology, link: https://www.statology.org/5-statistical-fallacies-avoid-them/], [snippet: The truth behind statistics: 7 Myths About Statistics, from the misconception of correlation implying causation to the misuse of p-values., title: 7 Myths About Statistics You Need to Stop Believing, link: https://statisticseasily.com/7-myths-about-statistics/], [snippet: In this paper, I briefly addressed the common statistical pitfalls in observational studies (see Box 3 ), similar to the article by Mansournia and Nazemipour that provides advice on accurate reporting in medical research statistics and the article by Sydes and Langley on how to avoid pitfalls in the design and reporting of clinical trials., title: Observational studies: practical tips for avoiding common statistical ..., link: https://www.thelancet.com/journals/lansea/article/PIIS2772-3682(24)00065-9/fulltext], [snippet: Here's a look at some of the most frequent pitfalls in statistical analysis and how you can avoid them to ensure your results are accurate and reliable. 1. Misunderstanding Statistical ..., title: Avoiding Common Pitfalls in Statistical Analysis: Ensuring ... - LinkedIn, link: https://www.linkedin.com/pulse/avoiding-common-pitfalls-statistical-analysis-ensuring-austin-stewart-a9y0c]\n",
      "What are common pitfalls in statistics??:\n",
      "\n",
      "[snippet: Data analysis and statistics can be a complex field with many common fallacies to be aware of. Knowledge of these pitfalls and actively working to avoid them will result in more accurate statistical conclusions that contribute to the advancement of evidence-based knowledge., title: 5 Statistical Fallacies and How to Avoid Them - Statology, link: https://www.statology.org/5-statistical-fallacies-avoid-them/], [snippet: The truth behind statistics: 7 Myths About Statistics, from the misconception of correlation implying causation to the misuse of p-values., title: 7 Myths About Statistics You Need to Stop Believing, link: https://statisticseasily.com/7-myths-about-statistics/], [snippet: In this paper, I briefly addressed the common statistical pitfalls in observational studies (see Box 3 ), similar to the article by Mansournia and Nazemipour that provides advice on accurate reporting in medical research statistics and the article by Sydes and Langley on how to avoid pitfalls in the design and reporting of clinical trials., title: Observational studies: practical tips for avoiding common statistical ..., link: https://www.thelancet.com/journals/lansea/article/PIIS2772-3682(24)00065-9/fulltext], [snippet: Here's a look at some of the most frequent pitfalls in statistical analysis and how you can avoid them to ensure your results are accurate and reliable. 1. Misunderstanding Statistical ..., title: Avoiding Common Pitfalls in Statistical Analysis: Ensuring ... - LinkedIn, link: https://www.linkedin.com/pulse/avoiding-common-pitfalls-statistical-analysis-ensuring-austin-stewart-a9y0c]What are common mistakes statisticians make when analyzing data?:\n",
      "\n",
      "[snippet: Statistics is an essential tool for making sense of and drawing meaningful conclusions from raw data. For beginners, however, there can be a lot of challenges and common mistakes when it comes to using statistics. Missteps can not only compromise the integrity of statistical analysis but also lead to incorrect conclusions being drawn from the data that can have negative repercussions when ..., title: 7 Common Beginner Stats Mistakes and How to Avoid Them - Statology, link: https://www.statology.org/7-common-beginner-stats-mistakes-avoid/], [snippet: Avoid the 6 most common mistakes in data analysis. Learn the causes and how to prevent incorrect insights - or how to recover., title: Analysts Beware: 6 Common Causes of Incorrect Data Analysis, link: https://www.pecan.ai/blog/common-data-analysis-mistakes/], [snippet: The true challenge lies not in avoiding data analysis mistakes altogether, but in recognizing them early and knowing how to rectify them., title: Common Data Analysis Mistakes (+ How You Can Avoid Them), link: https://medium.com/@janasobini/common-data-analysis-mistakes-how-you-can-avoid-them-91ad395a7fcf], [snippet: In the ever-evolving domain of data science, where statistics and programming converge, a world of possibilities emerges, but it's also…, title: Top 13 Statistics Mistakes Made by Data Scientists, Are You ... - Medium, link: https://medium.com/codex/top-13-statistics-mistakes-made-by-data-scientists-are-you-doing-these-b71f7312ff2d]\n",
      "What are common pitfalls in statistics??:\n",
      "\n",
      "[snippet: Data analysis and statistics can be a complex field with many common fallacies to be aware of. Knowledge of these pitfalls and actively working to avoid them will result in more accurate statistical conclusions that contribute to the advancement of evidence-based knowledge., title: 5 Statistical Fallacies and How to Avoid Them - Statology, link: https://www.statology.org/5-statistical-fallacies-avoid-them/], [snippet: The truth behind statistics: 7 Myths About Statistics, from the misconception of correlation implying causation to the misuse of p-values., title: 7 Myths About Statistics You Need to Stop Believing, link: https://statisticseasily.com/7-myths-about-statistics/], [snippet: In this paper, I briefly addressed the common statistical pitfalls in observational studies (see Box 3 ), similar to the article by Mansournia and Nazemipour that provides advice on accurate reporting in medical research statistics and the article by Sydes and Langley on how to avoid pitfalls in the design and reporting of clinical trials., title: Observational studies: practical tips for avoiding common statistical ..., link: https://www.thelancet.com/journals/lansea/article/PIIS2772-3682(24)00065-9/fulltext], [snippet: Here's a look at some of the most frequent pitfalls in statistical analysis and how you can avoid them to ensure your results are accurate and reliable. 1. Misunderstanding Statistical ..., title: Avoiding Common Pitfalls in Statistical Analysis: Ensuring ... - LinkedIn, link: https://www.linkedin.com/pulse/avoiding-common-pitfalls-statistical-analysis-ensuring-austin-stewart-a9y0c]What are common mistakes statisticians make when analyzing data?:\n",
      "\n",
      "[snippet: Statistics is an essential tool for making sense of and drawing meaningful conclusions from raw data. For beginners, however, there can be a lot of challenges and common mistakes when it comes to using statistics. Missteps can not only compromise the integrity of statistical analysis but also lead to incorrect conclusions being drawn from the data that can have negative repercussions when ..., title: 7 Common Beginner Stats Mistakes and How to Avoid Them - Statology, link: https://www.statology.org/7-common-beginner-stats-mistakes-avoid/], [snippet: Avoid the 6 most common mistakes in data analysis. Learn the causes and how to prevent incorrect insights - or how to recover., title: Analysts Beware: 6 Common Causes of Incorrect Data Analysis, link: https://www.pecan.ai/blog/common-data-analysis-mistakes/], [snippet: The true challenge lies not in avoiding data analysis mistakes altogether, but in recognizing them early and knowing how to rectify them., title: Common Data Analysis Mistakes (+ How You Can Avoid Them), link: https://medium.com/@janasobini/common-data-analysis-mistakes-how-you-can-avoid-them-91ad395a7fcf], [snippet: In the ever-evolving domain of data science, where statistics and programming converge, a world of possibilities emerges, but it's also…, title: Top 13 Statistics Mistakes Made by Data Scientists, Are You ... - Medium, link: https://medium.com/codex/top-13-statistics-mistakes-made-by-data-scientists-are-you-doing-these-b71f7312ff2d]What pitfalls do researchers encounter when interpreting statistical results?:\n",
      "\n",
      "[snippet: This Personal View is intended for early-career researchers who are not yet experts in statistics. The Personal View focuses on common but usually avoidable flaws in the context of observational studies. I point out how study design, data collection, and statistical methods impact statistical results and research conclusions. With particular attention to study planning, sample selection ..., title: Observational studies: practical tips for avoiding common statistical ..., link: https://www.thelancet.com/journals/lansea/article/PIIS2772-3682(24)00065-9/fulltext], [snippet: For quantitative research, statistical techniques must match the level of measurement and the distribution of your data. For qualitative research, the chosen methods should facilitate an in-depth understanding of the data. ... Common pitfalls include misinterpreting statistical results, where researchers may draw incorrect conclusions from p ..., title: Analysing and Interpreting Data in Your Dissertation: Making Sense of ..., link: https://www.universitylibrarian.com/blog/analysing-and-interpreting-data-in-your-dissertation-making-sense-of-your-findings], [snippet: Remember that the process of interpreting statistical results can be complex and iterative. It may require multiple iterations, adjustments, and a thorough examination of various factors. Persistence, seeking advice, and critically assessing your research from different angles are key to unraveling the meaningfulness of your statistical results., title: How to Meaningfully Interpret Statistical Analyses - Wyzant Blog, link: https://blog.wyzant.com/how-to-meaningfully-interpret-statistical-analyses/], [snippet: While statistical techniques abound for de-biasing, an important question to ask before data collection is whether we want the results to reflect the current reality (e.g. observational studies ..., title: How to Overcome Data Analysis Challenges in Research - LinkedIn, link: https://www.linkedin.com/advice/3/what-some-most-common-data-analysis-challenges-pitfalls]\n",
      "What are common pitfalls in statistics??:\n",
      "\n",
      "[snippet: Data analysis and statistics can be a complex field with many common fallacies to be aware of. Knowledge of these pitfalls and actively working to avoid them will result in more accurate statistical conclusions that contribute to the advancement of evidence-based knowledge., title: 5 Statistical Fallacies and How to Avoid Them - Statology, link: https://www.statology.org/5-statistical-fallacies-avoid-them/], [snippet: The truth behind statistics: 7 Myths About Statistics, from the misconception of correlation implying causation to the misuse of p-values., title: 7 Myths About Statistics You Need to Stop Believing, link: https://statisticseasily.com/7-myths-about-statistics/], [snippet: In this paper, I briefly addressed the common statistical pitfalls in observational studies (see Box 3 ), similar to the article by Mansournia and Nazemipour that provides advice on accurate reporting in medical research statistics and the article by Sydes and Langley on how to avoid pitfalls in the design and reporting of clinical trials., title: Observational studies: practical tips for avoiding common statistical ..., link: https://www.thelancet.com/journals/lansea/article/PIIS2772-3682(24)00065-9/fulltext], [snippet: Here's a look at some of the most frequent pitfalls in statistical analysis and how you can avoid them to ensure your results are accurate and reliable. 1. Misunderstanding Statistical ..., title: Avoiding Common Pitfalls in Statistical Analysis: Ensuring ... - LinkedIn, link: https://www.linkedin.com/pulse/avoiding-common-pitfalls-statistical-analysis-ensuring-austin-stewart-a9y0c]What are common mistakes statisticians make when analyzing data?:\n",
      "\n",
      "[snippet: Statistics is an essential tool for making sense of and drawing meaningful conclusions from raw data. For beginners, however, there can be a lot of challenges and common mistakes when it comes to using statistics. Missteps can not only compromise the integrity of statistical analysis but also lead to incorrect conclusions being drawn from the data that can have negative repercussions when ..., title: 7 Common Beginner Stats Mistakes and How to Avoid Them - Statology, link: https://www.statology.org/7-common-beginner-stats-mistakes-avoid/], [snippet: Avoid the 6 most common mistakes in data analysis. Learn the causes and how to prevent incorrect insights - or how to recover., title: Analysts Beware: 6 Common Causes of Incorrect Data Analysis, link: https://www.pecan.ai/blog/common-data-analysis-mistakes/], [snippet: The true challenge lies not in avoiding data analysis mistakes altogether, but in recognizing them early and knowing how to rectify them., title: Common Data Analysis Mistakes (+ How You Can Avoid Them), link: https://medium.com/@janasobini/common-data-analysis-mistakes-how-you-can-avoid-them-91ad395a7fcf], [snippet: In the ever-evolving domain of data science, where statistics and programming converge, a world of possibilities emerges, but it's also…, title: Top 13 Statistics Mistakes Made by Data Scientists, Are You ... - Medium, link: https://medium.com/codex/top-13-statistics-mistakes-made-by-data-scientists-are-you-doing-these-b71f7312ff2d]What pitfalls do researchers encounter when interpreting statistical results?:\n",
      "\n",
      "[snippet: This Personal View is intended for early-career researchers who are not yet experts in statistics. The Personal View focuses on common but usually avoidable flaws in the context of observational studies. I point out how study design, data collection, and statistical methods impact statistical results and research conclusions. With particular attention to study planning, sample selection ..., title: Observational studies: practical tips for avoiding common statistical ..., link: https://www.thelancet.com/journals/lansea/article/PIIS2772-3682(24)00065-9/fulltext], [snippet: For quantitative research, statistical techniques must match the level of measurement and the distribution of your data. For qualitative research, the chosen methods should facilitate an in-depth understanding of the data. ... Common pitfalls include misinterpreting statistical results, where researchers may draw incorrect conclusions from p ..., title: Analysing and Interpreting Data in Your Dissertation: Making Sense of ..., link: https://www.universitylibrarian.com/blog/analysing-and-interpreting-data-in-your-dissertation-making-sense-of-your-findings], [snippet: Remember that the process of interpreting statistical results can be complex and iterative. It may require multiple iterations, adjustments, and a thorough examination of various factors. Persistence, seeking advice, and critically assessing your research from different angles are key to unraveling the meaningfulness of your statistical results., title: How to Meaningfully Interpret Statistical Analyses - Wyzant Blog, link: https://blog.wyzant.com/how-to-meaningfully-interpret-statistical-analyses/], [snippet: While statistical techniques abound for de-biasing, an important question to ask before data collection is whether we want the results to reflect the current reality (e.g. observational studies ..., title: How to Overcome Data Analysis Challenges in Research - LinkedIn, link: https://www.linkedin.com/advice/3/what-some-most-common-data-analysis-challenges-pitfalls]How can biases and assumptions impact statistical conclusions?:\n",
      "\n",
      "[snippet: Bias in data analysis has plenty of repercussions, from social backlash to business impacts. Inherent racial or gender bias might affect models, but numeric outliers and inaccurate model training can lead to bias in business aspects as well., title: 9 types of bias in data analysis and how to avoid them - TechTarget, link: https://www.techtarget.com/searchbusinessanalytics/feature/8-types-of-bias-in-data-analysis-and-how-to-avoid-them], [snippet: Statistics are a vital tool used to understand data and use it to guide decision-making. However, there are many common statistical fallacies that can distort findings and lead to incorrect conclusions. Avoiding these fallacies is crucial to ensuring the accuracy and reliability of statistical analysis., title: 5 Statistical Fallacies and How to Avoid Them - Statology, link: https://www.statology.org/5-statistical-fallacies-avoid-them/], [snippet: This bias can significantly impact the validity of your analysis and cause misleading conclusions. Preconceived assumptions can cloud objectivity and lead to conclusions that align with expectations rather than empirical evidence. For example, you can imagine how a person's bias may lead them to unintentionally confuse correlation with causation., title: Analysts Beware: 6 Common Causes of Incorrect Data Analysis, link: https://www.pecan.ai/blog/common-data-analysis-mistakes/], [snippet: Learn how to sidestep biases in statistical data to make objective decisions with these key strategies for analysts., title: Avoiding Bias in Your Statistical Data Analysis - LinkedIn, link: https://www.linkedin.com/advice/3/youre-analyzing-statistical-data-how-can-you-avoid-biases-sjjvc]\n",
      "-----------Summarizing-----------\n",
      "• Common pitfalls in statistics include misunderstanding statistical significance, misinterpreting correlation as causation, failing to account for confounding variables, and relying too heavily on p-values.\n",
      "• Researchers may encounter pitfalls when interpreting statistical results by drawing incorrect conclusions from p-values, ignoring study limitations, or neglecting the impact of sample selection bias.\n",
      "• Biases can impact statistical conclusions by causing misleading findings, clouding objectivity, or leading to conclusions that align with expectations rather than empirical evidence.\n",
      "• To avoid these pitfalls, researchers should be aware of common biases in data analysis, such as selective reporting and confirmation bias, and strive for transparency and replicability in their research.\n",
      "-----------Grading answer-----------\n",
      "Sufficient\n",
      "-------------Routing---------------\n",
      "Sufficient\n"
     ]
    }
   ],
   "source": [
    "finalState = graph.invoke({\"question\": \"What are common pitfalls in statistics??\", \n",
    "                           \"nPoints\": 4, \"nQuestions\":3,\n",
    "                           \"maxIters\":3, \"iter\":0})"
   ]
  }
 ],
 "metadata": {
  "kernelspec": {
   "display_name": "Python 3",
   "language": "python",
   "name": "python3"
  },
  "language_info": {
   "codemirror_mode": {
    "name": "ipython",
    "version": 3
   },
   "file_extension": ".py",
   "mimetype": "text/x-python",
   "name": "python",
   "nbconvert_exporter": "python",
   "pygments_lexer": "ipython3",
   "version": "3.11.9"
  }
 },
 "nbformat": 4,
 "nbformat_minor": 2
}
